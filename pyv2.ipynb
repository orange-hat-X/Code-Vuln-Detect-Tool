{
 "cells": [
  {
   "cell_type": "code",
   "execution_count": 1,
   "metadata": {},
   "outputs": [
    {
     "name": "stdout",
     "output_type": "stream",
     "text": [
      "              precision    recall  f1-score   support\n",
      "\n",
      "           0       0.96      0.97      0.97       137\n",
      "           1       0.98      0.98      0.98       211\n",
      "\n",
      "    accuracy                           0.97       348\n",
      "   macro avg       0.97      0.97      0.97       348\n",
      "weighted avg       0.97      0.97      0.97       348\n",
      "\n",
      "Model ve TF-IDF vektörizer kaydedildi.\n"
     ]
    }
   ],
   "source": [
    "import pandas as pd\n",
    "from sklearn.model_selection import train_test_split\n",
    "from sklearn.feature_extraction.text import TfidfVectorizer\n",
    "from sklearn.ensemble import RandomForestClassifier\n",
    "from sklearn.metrics import classification_report\n",
    "\n",
    "# Load the dataset\n",
    "df = pd.read_csv('py_clean.csv')\n",
    "\n",
    "# Preprocess the data\n",
    "df['Query'] = df['Query'].str.strip()  # Remove leading/trailing whitespaces\n",
    "\n",
    "# Split the data into features and labels\n",
    "X = df['Query']\n",
    "y = df['Label']\n",
    "\n",
    "# Convert text data into numerical format using TF-IDF\n",
    "vectorizer = TfidfVectorizer(max_features=5000)\n",
    "X_vectorized = vectorizer.fit_transform(X)\n",
    "\n",
    "# Split into training and testing sets\n",
    "X_train, X_test, y_train, y_test = train_test_split(X_vectorized, y, test_size=0.2, random_state=42)\n",
    "\n",
    "# Train a classification model\n",
    "model = RandomForestClassifier()\n",
    "model.fit(X_train, y_train)\n",
    "\n",
    "# Evaluate the model\n",
    "y_pred = model.predict(X_test)\n",
    "print(classification_report(y_test, y_pred))\n",
    "\n",
    "import joblib, os\n",
    "\n",
    "model_dir = \"models\"\n",
    "\n",
    "joblib.dump(vectorizer, os.path.join(model_dir, f'{\"py\"}_vectorizer.pkl'))\n",
    "joblib.dump(model, os.path.join(model_dir, f'{\"py\"}_model.pkl'))\n",
    "\n",
    "print(\"Model ve TF-IDF vektörizer kaydedildi.\")\n",
    "\n",
    "\n",
    "# Function to predict new code snippet\n",
    "def predict_code_snippet(code_snippet):\n",
    "    code_vectorized = vectorizer.transform([code_snippet])\n",
    "    prediction = model.predict(code_vectorized)\n",
    "    return \"Malicious\" if prediction[0] == 1 else \"Safe\"\n",
    "\n",
    "# Test with a new input\n",
    "# new_code = input(\"Enter a code snippet: \")\n",
    "# print(\"The code is:\", predict_code_snippet(new_code))\n"
   ]
  }
 ],
 "metadata": {
  "kernelspec": {
   "display_name": ".venv",
   "language": "python",
   "name": "python3"
  },
  "language_info": {
   "codemirror_mode": {
    "name": "ipython",
    "version": 3
   },
   "file_extension": ".py",
   "mimetype": "text/x-python",
   "name": "python",
   "nbconvert_exporter": "python",
   "pygments_lexer": "ipython3",
   "version": "3.12.7"
  }
 },
 "nbformat": 4,
 "nbformat_minor": 2
}
