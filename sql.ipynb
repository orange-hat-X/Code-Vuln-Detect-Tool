{
 "cells": [
  {
   "cell_type": "code",
   "execution_count": 47,
   "metadata": {
    "colab": {
     "base_uri": "https://localhost:8080/"
    },
    "executionInfo": {
     "elapsed": 911,
     "status": "ok",
     "timestamp": 1733308504304,
     "user": {
      "displayName": "Orange Hat",
      "userId": "06737961560279060366"
     },
     "user_tz": -180
    },
    "id": "dPcR86vSNzsS",
    "outputId": "0179819e-e3ab-445d-f9fa-1df0b2afa5ee"
   },
   "outputs": [
    {
     "name": "stdout",
     "output_type": "stream",
     "text": [
      "                                               Query  Label\n",
      "0                  \" or pg_sleep  (  __TIME__  )  --      1\n",
      "1  create user name identified by pass123 tempora...      1\n",
      "2   AND 1  =  utl_inaddr.get_host_address   (    ...      1\n",
      "3   select * from users where id  =  '1' or @ @1 ...      1\n",
      "4   select * from users where id  =  1 or 1#\"  ( ...      1\n",
      "Veri boyutu: (22913, 2)\n"
     ]
    }
   ],
   "source": [
    "import pandas as pd\n",
    "\n",
    "df = pd.read_csv(\"sql.csv\")\n",
    "print(df.head())\n",
    "print(f\"Veri boyutu: {df.shape}\")"
   ]
  },
  {
   "cell_type": "code",
   "execution_count": 48,
   "metadata": {
    "colab": {
     "base_uri": "https://localhost:8080/"
    },
    "executionInfo": {
     "elapsed": 293,
     "status": "ok",
     "timestamp": 1733308506846,
     "user": {
      "displayName": "Orange Hat",
      "userId": "06737961560279060366"
     },
     "user_tz": -180
    },
    "id": "L_jk95f2OZFn",
    "outputId": "cf4c849f-2106-48e0-af53-5d2c6c01f2e3"
   },
   "outputs": [
    {
     "name": "stdout",
     "output_type": "stream",
     "text": [
      "Eksik değerler: Query    0\n",
      "Label    0\n",
      "dtype: int64\n",
      "Label dağılımı: Label\n",
      "0    11584\n",
      "1    11329\n",
      "Name: count, dtype: int64\n"
     ]
    }
   ],
   "source": [
    "# veriyi temizleme işlemlerini burada yapıyoruz\n",
    "print(\"Eksik değerler:\", df.isnull().sum())\n",
    "df = df.dropna()  # none içeren satırları kaldırıp temizliyoruz\n",
    "df = df[df[\"Query\"].str.strip() != \"\"]  # boş stringleri temizledik\n",
    "\n",
    "print(\"Label dağılımı:\", df[\"Label\"].value_counts()) # label dağılımını gösteriyoruz\n"
   ]
  },
  {
   "cell_type": "code",
   "execution_count": 49,
   "metadata": {
    "colab": {
     "base_uri": "https://localhost:8080/"
    },
    "executionInfo": {
     "elapsed": 276,
     "status": "ok",
     "timestamp": 1733308509008,
     "user": {
      "displayName": "Orange Hat",
      "userId": "06737961560279060366"
     },
     "user_tz": -180
    },
    "id": "JHaQOhSHOcKW",
    "outputId": "54fa8f42-fa0f-4c8a-ec67-5bf53e585733"
   },
   "outputs": [
    {
     "name": "stdout",
     "output_type": "stream",
     "text": [
      "Eğitim seti boyutu: 18330\n",
      "Test seti boyutu: 4583\n"
     ]
    }
   ],
   "source": [
    "from sklearn.model_selection import train_test_split\n",
    "\n",
    "X = df[\"Query\"]  \n",
    "y = df[\"Label\"] \n",
    "\n",
    "X_train, X_test, y_train, y_test = train_test_split(X, y, test_size=0.2, random_state=55) # veriyi train ve test olarak ayırıyoruz\n",
    "\n",
    "print(f\"Eğitim seti boyutu: {X_train.shape[0]}\")\n",
    "print(f\"Test seti boyutu: {X_test.shape[0]}\")\n"
   ]
  },
  {
   "cell_type": "code",
   "execution_count": 50,
   "metadata": {
    "colab": {
     "base_uri": "https://localhost:8080/"
    },
    "executionInfo": {
     "elapsed": 3201,
     "status": "ok",
     "timestamp": 1733310747907,
     "user": {
      "displayName": "Orange Hat",
      "userId": "06737961560279060366"
     },
     "user_tz": -180
    },
    "id": "YYvCERFcOgH7",
    "outputId": "7b1bd11a-677b-4bd6-de05-6bd57265eb72"
   },
   "outputs": [
    {
     "name": "stdout",
     "output_type": "stream",
     "text": [
      "TF-IDF Eğitim seti boyutu: (18330, 5000)\n",
      "TF-IDF Test seti boyutu: (4583, 5000)\n"
     ]
    }
   ],
   "source": [
    "from sklearn.feature_extraction.text import TfidfVectorizer\n",
    "\n",
    "# TF-IDF vektörizeri tanımlayın\n",
    "vectorizer = TfidfVectorizer(max_features=5000, lowercase=True ,ngram_range=(1, 2))\n",
    "# max_features 5000 1000, ngram_range (1,1) (2,2)\n",
    "\n",
    "# Eğitim ve test setini TF-IDF ile dönüştür\n",
    "X_train_tfidf = vectorizer.fit_transform(X_train)\n",
    "X_test_tfidf = vectorizer.transform(X_test)\n",
    "\n",
    "print(f\"TF-IDF Eğitim seti boyutu: {X_train_tfidf.shape}\")\n",
    "print(f\"TF-IDF Test seti boyutu: {X_test_tfidf.shape}\")\n"
   ]
  },
  {
   "cell_type": "code",
   "execution_count": 51,
   "metadata": {
    "colab": {
     "base_uri": "https://localhost:8080/"
    },
    "executionInfo": {
     "elapsed": 186466,
     "status": "ok",
     "timestamp": 1733312241712,
     "user": {
      "displayName": "Orange Hat",
      "userId": "06737961560279060366"
     },
     "user_tz": -180
    },
    "id": "IupkkOa_Ojes",
    "outputId": "af032a2b-bd63-4d64-a75f-2bcd2e9e5698"
   },
   "outputs": [
    {
     "name": "stdout",
     "output_type": "stream",
     "text": [
      "Model eğitimi tamamlandı.\n"
     ]
    }
   ],
   "source": [
    "from sklearn.ensemble import RandomForestClassifier\n",
    "\n",
    "# Random Forest modelini tanımlayın\n",
    "model = RandomForestClassifier(n_estimators=100, max_depth=5,random_state=42,class_weight=\"balanced\")\n",
    "\n",
    "# Modeli eğitim seti ile eğitin\n",
    "model.fit(X_train_tfidf, y_train)\n",
    "\n",
    "print(\"Model eğitimi tamamlandı.\")"
   ]
  },
  {
   "cell_type": "code",
   "execution_count": 53,
   "metadata": {
    "colab": {
     "base_uri": "https://localhost:8080/"
    },
    "executionInfo": {
     "elapsed": 6111,
     "status": "ok",
     "timestamp": 1733312250573,
     "user": {
      "displayName": "Orange Hat",
      "userId": "06737961560279060366"
     },
     "user_tz": -180
    },
    "id": "NUhOdjMqOnmP",
    "outputId": "41fb32c3-ce10-4677-84c6-78c6fe9dca34"
   },
   "outputs": [
    {
     "name": "stdout",
     "output_type": "stream",
     "text": [
      "Doğruluk: 0.96\n",
      "\n",
      "Performans Raporu:\n",
      "              precision    recall  f1-score   support\n",
      "\n",
      "      Benign       0.93      0.99      0.96      2335\n",
      "   Malicious       0.99      0.92      0.95      2248\n",
      "\n",
      "    accuracy                           0.96      4583\n",
      "   macro avg       0.96      0.95      0.95      4583\n",
      "weighted avg       0.96      0.96      0.95      4583\n",
      "\n"
     ]
    }
   ],
   "source": [
    "from sklearn.metrics import accuracy_score\n",
    "\n",
    "# Test setinde tahmin yap\n",
    "y_pred = model.predict(X_test_tfidf)\n",
    "\n",
    "# Doğruluk skorunu hesapla\n",
    "accuracy = accuracy_score(y_test, y_pred)\n",
    "print(f\"Doğruluk: {accuracy:.2f}\")\n",
    "\n",
    "from sklearn.metrics import classification_report\n",
    "\n",
    "print(\"\\nPerformans Raporu:\")\n",
    "print(classification_report(y_test, y_pred, target_names=[\"Benign\", \"Malicious\"]))\n"
   ]
  },
  {
   "cell_type": "code",
   "execution_count": 54,
   "metadata": {},
   "outputs": [
    {
     "name": "stdout",
     "output_type": "stream",
     "text": [
      "Fitting 5 folds for each of 162 candidates, totalling 810 fits\n",
      "En iyi parametreler: {'class_weight': 'balanced', 'max_depth': 20, 'min_samples_leaf': 1, 'min_samples_split': 10, 'n_estimators': 200}\n",
      "En iyi F1 skoru: 0.9949699458212258\n"
     ]
    }
   ],
   "source": [
    "from sklearn.model_selection import GridSearchCV\n",
    "\n",
    "# Parametre ızgarasını tanımlayın\n",
    "param_grid = {\n",
    "    'n_estimators': [100, 200, 300],\n",
    "    'max_depth': [5, 10, 20],\n",
    "    'min_samples_split': [2, 5, 10],\n",
    "    'min_samples_leaf': [1, 2, 4],\n",
    "    'class_weight': ['balanced', 'balanced_subsample']\n",
    "}\n",
    "\n",
    "# GridSearchCV'yi tanımlayın\n",
    "grid_search = GridSearchCV(\n",
    "    estimator=RandomForestClassifier(random_state=42),\n",
    "    param_grid=param_grid,\n",
    "    cv=5,\n",
    "    n_jobs=-1,\n",
    "    scoring='f1',\n",
    "    verbose=2\n",
    ")\n",
    "\n",
    "# Grid Search'i eğitin\n",
    "grid_search.fit(X_train_tfidf, y_train)\n",
    "\n",
    "print(f\"En iyi parametreler: {grid_search.best_params_}\")\n",
    "print(f\"En iyi F1 skoru: {grid_search.best_score_}\")\n"
   ]
  },
  {
   "cell_type": "code",
   "execution_count": 57,
   "metadata": {},
   "outputs": [
    {
     "name": "stdout",
     "output_type": "stream",
     "text": [
      "Model eğitimi tamamlandı.\n",
      "Doğruluk: 0.99\n",
      "\n",
      "Performans Raporu:\n",
      "              precision    recall  f1-score   support\n",
      "\n",
      "      Benign       0.99      1.00      0.99      2335\n",
      "   Malicious       1.00      0.99      0.99      2248\n",
      "\n",
      "    accuracy                           0.99      4583\n",
      "   macro avg       0.99      0.99      0.99      4583\n",
      "weighted avg       0.99      0.99      0.99      4583\n",
      "\n"
     ]
    }
   ],
   "source": [
    "from sklearn.ensemble import RandomForestClassifier\n",
    "\n",
    "# Random Forest modelini tanımlayın\n",
    "model = RandomForestClassifier(n_estimators=200, max_depth=20,random_state=42,min_samples_leaf= 1,min_samples_split= 10,class_weight=\"balanced\")\n",
    "\n",
    "# Modeli eğitim seti ile eğitin\n",
    "model.fit(X_train_tfidf, y_train)\n",
    "\n",
    "print(\"Model eğitimi tamamlandı.\")\n",
    "\n",
    "from sklearn.metrics import accuracy_score\n",
    "\n",
    "# Test setinde tahmin yap\n",
    "y_pred = model.predict(X_test_tfidf)\n",
    "\n",
    "# Doğruluk skorunu hesapla\n",
    "accuracy = accuracy_score(y_test, y_pred)\n",
    "print(f\"Doğruluk: {accuracy:.2f}\")\n",
    "\n",
    "from sklearn.metrics import classification_report\n",
    "\n",
    "print(\"\\nPerformans Raporu:\")\n",
    "print(classification_report(y_test, y_pred, target_names=[\"Benign\", \"Malicious\"]))\n"
   ]
  },
  {
   "cell_type": "code",
   "execution_count": 58,
   "metadata": {
    "colab": {
     "base_uri": "https://localhost:8080/"
    },
    "executionInfo": {
     "elapsed": 5752,
     "status": "ok",
     "timestamp": 1733312272528,
     "user": {
      "displayName": "Orange Hat",
      "userId": "06737961560279060366"
     },
     "user_tz": -180
    },
    "id": "60iPj0V1QHuF",
    "outputId": "6baf7bf3-7d77-44d5-ec59-a7526a19fb30"
   },
   "outputs": [
    {
     "name": "stdout",
     "output_type": "stream",
     "text": [
      "Model ve TF-IDF vektörizer kaydedildi.\n"
     ]
    }
   ],
   "source": [
    "import joblib, os\n",
    "\n",
    "model_dir = \"models\"\n",
    "\n",
    "joblib.dump(vectorizer, os.path.join(model_dir, f'{\"sql\"}_vectorizer.pkl'))\n",
    "joblib.dump(model, os.path.join(model_dir, f'{\"sql\"}_model.pkl'))\n",
    "\n",
    "print(\"Model ve TF-IDF vektörizer kaydedildi.\")\n"
   ]
  },
  {
   "cell_type": "code",
   "execution_count": 59,
   "metadata": {
    "colab": {
     "base_uri": "https://localhost:8080/"
    },
    "executionInfo": {
     "elapsed": 300,
     "status": "ok",
     "timestamp": 1733311550789,
     "user": {
      "displayName": "Orange Hat",
      "userId": "06737961560279060366"
     },
     "user_tz": -180
    },
    "id": "X_35ClVsQOlD",
    "outputId": "bd55f060-48df-4f26-e54f-463113da2f99"
   },
   "outputs": [
    {
     "name": "stdout",
     "output_type": "stream",
     "text": [
      "Tahmin edilen sınıf: Malicious\n"
     ]
    }
   ],
   "source": [
    "# Yeni bir SQL sorgusu\n",
    "new_query = [\" AND 1  =  utl_inaddr.get_host_address   (    (   SELECT DISTINCT  (  granted_role  )   FROM   (  SELECT DISTINCT  (  granted_role  )  , ROWNUM AS LIMIT FROM dba_role_privs WHERE GRANTEE  =  SYS.LOGINUSER  )   WHERE LIMIT  =  2   )    )    AND 'i'  =  'i\"]\n",
    "\n",
    "# TF-IDF ile sorguyu dönüştür\n",
    "new_query_tfidf = vectorizer.transform(new_query)\n",
    "\n",
    "# Tahmin yap\n",
    "new_prediction = model.predict(new_query_tfidf)\n",
    "print(\"Tahmin edilen sınıf:\", \"Malicious\" if new_prediction[0] == 1 else \"Benign\")\n"
   ]
  },
  {
   "cell_type": "code",
   "execution_count": 60,
   "metadata": {
    "colab": {
     "base_uri": "https://localhost:8080/"
    },
    "executionInfo": {
     "elapsed": 257,
     "status": "ok",
     "timestamp": 1733311996232,
     "user": {
      "displayName": "Orange Hat",
      "userId": "06737961560279060366"
     },
     "user_tz": -180
    },
    "id": "I_lSzkMgQgRr",
    "outputId": "c9326c90-bda5-4f54-8c52-63f590630cb3"
   },
   "outputs": [
    {
     "name": "stdout",
     "output_type": "stream",
     "text": [
      "Sorgu: select * from users where id  =  1 or ]{ or 1  =  1 -- 1\n",
      "Tahmin edilen sınıf: Malicious\n",
      "\n",
      "Sorgu: select * from users where id  =  '1' or @ @1  =  1 union select 1,version  (    )   -- 1'\n",
      "Tahmin edilen sınıf: Malicious\n",
      "\n",
      "Sorgu: 1 where 9241  =  9241 union all select null#\n",
      "Tahmin edilen sınıf: Malicious\n",
      "\n",
      "Sorgu: 1  )   where 3738  =  3738 or 8421  =    (  select count  (  *  )   from generate_series  (  1,5000000   )    )   --\n",
      "Tahmin edilen sınıf: Malicious\n",
      "\n",
      "Sorgu: cursor.execute('SELECT name, age FROM employees WHERE department_id = ? AND status = ?', (department_id, 'active'))\n",
      "Tahmin edilen sınıf: Benign\n",
      "\n",
      "Sorgu: SELECT orders.id, customers.name FROM orders INNER JOIN customers ON orders.customer_id = customers.id WHERE customers.country = 'USA';\n",
      "Tahmin edilen sınıf: Benign\n",
      "\n",
      "Sorgu: GRANT SELECT ON table_name TO 'username';\n",
      "Tahmin edilen sınıf: Benign\n",
      "\n",
      "Sorgu: SELECT * FROM die FETCH FIRST 50 PERCENT ROWS ONLY\n",
      "Tahmin edilen sınıf: Benign\n",
      "\n"
     ]
    }
   ],
   "source": [
    "new_queries = [\n",
    "    # Zafiyetli (SQL Injection'a açık) komutlar:\n",
    "    \"select * from users where id  =  1 or \"\"]{\"\" or 1  =  1 -- 1\",\n",
    "    \"select * from users where id  =  '1' or @ @1  =  1 union select 1,version  (    )   -- 1'\",\n",
    "    \"1\"\" where 9241  =  9241 union all select null#\", \n",
    "    \"1  )   where 3738  =  3738 or 8421  =    (  select count  (  *  )   from generate_series  (  1,5000000   )    )   --\",\n",
    "    # Güvenli (SQL Injection'a karşı korumalı) komutlar:\n",
    "    \"cursor.execute('SELECT name, age FROM employees WHERE department_id = ? AND status = ?', (department_id, 'active'))\",  # Parametrik sorgu ile güvenli veri alımı\n",
    "    \"SELECT orders.id, customers.name FROM orders INNER JOIN customers ON orders.customer_id = customers.id WHERE customers.country = 'USA';\",  # INNER JOIN ile güvenli sorgu\n",
    "    \"GRANT SELECT ON table_name TO 'username';\",  # Veritabanı yetkisi ile güvenli kullanım\n",
    "    \"SELECT * FROM die FETCH FIRST 50 PERCENT ROWS ONLY\",\n",
    "]\n",
    "\n",
    "# TF-IDF ile dönüştürme\n",
    "new_queries_tfidf = vectorizer.transform(new_queries)\n",
    "\n",
    "# Tahmin yapma\n",
    "predictions = model.predict(new_queries_tfidf)\n",
    "\n",
    "# Sonuçları yazdırma\n",
    "for query, prediction in zip(new_queries, predictions):\n",
    "    result = \"Malicious\" if prediction == 1 else \"Benign\"\n",
    "    print(f\"Sorgu: {query}\\nTahmin edilen sınıf: {result}\\n\")\n"
   ]
  }
 ],
 "metadata": {
  "colab": {
   "authorship_tag": "ABX9TyNBCrjhtDq0Kw/i46W+Wbix",
   "mount_file_id": "1t6Ax01fjPdOfNSC5uUZyWP3GUtz7VSkE",
   "provenance": []
  },
  "kernelspec": {
   "display_name": "Python 3",
   "language": "python",
   "name": "python3"
  },
  "language_info": {
   "codemirror_mode": {
    "name": "ipython",
    "version": 3
   },
   "file_extension": ".py",
   "mimetype": "text/x-python",
   "name": "python",
   "nbconvert_exporter": "python",
   "pygments_lexer": "ipython3",
   "version": "3.12.3"
  }
 },
 "nbformat": 4,
 "nbformat_minor": 0
}
